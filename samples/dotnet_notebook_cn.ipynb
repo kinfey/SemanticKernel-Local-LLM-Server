{
 "cells": [
  {
   "cell_type": "code",
   "execution_count": null,
   "metadata": {
    "dotnet_interactive": {
     "language": "csharp"
    },
    "polyglot_notebook": {
     "kernelName": "csharp"
    },
    "vscode": {
     "languageId": "polyglot-notebook"
    }
   },
   "outputs": [],
   "source": [
    "#r \"nuget: Microsoft.SemanticKernel, *-*\"\n",
    "#r \"nuget: Microsoft.SemanticKernel.Connectors.HuggingFace, *-*\"\n",
    "#r \"nuget: Microsoft.SemanticKernel.Connectors.Qdrant, *-*\""
   ]
  },
  {
   "cell_type": "code",
   "execution_count": null,
   "metadata": {
    "dotnet_interactive": {
     "language": "csharp"
    },
    "polyglot_notebook": {
     "kernelName": "csharp"
    },
    "vscode": {
     "languageId": "polyglot-notebook"
    }
   },
   "outputs": [],
   "source": [
    "using Microsoft.SemanticKernel;\n",
    "using Microsoft.SemanticKernel.Embeddings;\n",
    "using Microsoft.SemanticKernel.Memory;\n",
    "using Microsoft.SemanticKernel.Connectors.Qdrant;\n",
    "using Microsoft.SemanticKernel.Connectors.HuggingFace;"
   ]
  },
  {
   "cell_type": "markdown",
   "metadata": {},
   "source": []
  },
  {
   "cell_type": "code",
   "execution_count": null,
   "metadata": {
    "dotnet_interactive": {
     "language": "csharp"
    },
    "polyglot_notebook": {
     "kernelName": "csharp"
    },
    "vscode": {
     "languageId": "polyglot-notebook"
    }
   },
   "outputs": [],
   "source": [
    "string chat_endpoint = \"http://localhost:5002/v1/chat/completions\";\n",
    "string embeddings_endpoint = \"http://localhost:5002/v1/embeddings\";\n",
    "string qdrant_endpoint = \"http://localhost:6333\";"
   ]
  },
  {
   "cell_type": "code",
   "execution_count": null,
   "metadata": {
    "dotnet_interactive": {
     "language": "csharp"
    },
    "polyglot_notebook": {
     "kernelName": "csharp"
    },
    "vscode": {
     "languageId": "polyglot-notebook"
    }
   },
   "outputs": [],
   "source": [
    "\n",
    "#pragma warning disable SKEXP0020\n",
    "\n",
    "Kernel kernel = Kernel.CreateBuilder()\n",
    "            .AddHuggingFaceTextGeneration(\n",
    "                model: \"baichuan2\",\n",
    "                endpoint: chat_endpoint)\n",
    "            .Build();"
   ]
  },
  {
   "cell_type": "code",
   "execution_count": null,
   "metadata": {
    "dotnet_interactive": {
     "language": "csharp"
    },
    "polyglot_notebook": {
     "kernelName": "csharp"
    },
    "vscode": {
     "languageId": "polyglot-notebook"
    }
   },
   "outputs": [],
   "source": [
    "#pragma warning disable SKEXP0003\n",
    "#pragma warning disable SKEXP0011\n",
    "#pragma warning disable SKEXP0026\n",
    "\n",
    "#pragma warning disable SKEXP0020\n",
    "\n",
    "var qdrantMemoryBuilder = new MemoryBuilder();\n",
    "\n",
    "var hfembeddings = new HuggingFaceTextEmbeddingGenerationService(\"text2veccn\", embeddings_endpoint);\n",
    "\n",
    "qdrantMemoryBuilder.WithTextEmbeddingGeneration(hfembeddings);\n",
    "qdrantMemoryBuilder.WithQdrantMemoryStore(qdrant_endpoint, 1024);\n",
    "\n",
    "var builder = qdrantMemoryBuilder.Build();"
   ]
  },
  {
   "cell_type": "code",
   "execution_count": null,
   "metadata": {
    "dotnet_interactive": {
     "language": "csharp"
    },
    "polyglot_notebook": {
     "kernelName": "csharp"
    },
    "vscode": {
     "languageId": "polyglot-notebook"
    }
   },
   "outputs": [],
   "source": [
    "string MemoryCollectionName = \"democndemo\";\n",
    "\n",
    "await builder.SaveInformationAsync(MemoryCollectionName, id: \"id1\", text: \"卢建晖是微软高级云技术布道师\");\n",
    "await builder.SaveInformationAsync(MemoryCollectionName, id: \"id2\", text: \"卢建晖是微软最有价值专家\");\n",
    "await builder.SaveInformationAsync(MemoryCollectionName, id: \"id3\", text: \"卢建晖是微软黑客松 AI 教练\");\n",
    "await builder.SaveInformationAsync(MemoryCollectionName, id: \"id4\", text: \"蜡笔小新出自日本漫画\");\n"
   ]
  },
  {
   "cell_type": "code",
   "execution_count": null,
   "metadata": {
    "dotnet_interactive": {
     "language": "csharp"
    },
    "polyglot_notebook": {
     "kernelName": "csharp"
    },
    "vscode": {
     "languageId": "polyglot-notebook"
    }
   },
   "outputs": [],
   "source": [
    "var searchResults =  builder.SearchAsync(MemoryCollectionName, \"介绍一下卢建晖\", limit: 3, minRelevanceScore: 0.6);"
   ]
  },
  {
   "cell_type": "code",
   "execution_count": null,
   "metadata": {
    "dotnet_interactive": {
     "language": "csharp"
    },
    "polyglot_notebook": {
     "kernelName": "csharp"
    },
    "vscode": {
     "languageId": "polyglot-notebook"
    }
   },
   "outputs": [],
   "source": [
    "await foreach (var item in searchResults)\n",
    "{\n",
    "    Console.WriteLine(item.Metadata.Text + \" : \" + item.Relevance);\n",
    "}"
   ]
  },
  {
   "cell_type": "code",
   "execution_count": null,
   "metadata": {
    "dotnet_interactive": {
     "language": "csharp"
    },
    "polyglot_notebook": {
     "kernelName": "csharp"
    },
    "vscode": {
     "languageId": "polyglot-notebook"
    }
   },
   "outputs": [],
   "source": [
    "var questionAnswerFunction = kernel.CreateFunctionFromPrompt(@\"请回答问题，用户输入 {{$input}} \");"
   ]
  },
  {
   "cell_type": "code",
   "execution_count": null,
   "metadata": {
    "dotnet_interactive": {
     "language": "csharp"
    },
    "polyglot_notebook": {
     "kernelName": "csharp"
    },
    "vscode": {
     "languageId": "polyglot-notebook"
    }
   },
   "outputs": [],
   "source": [
    "var result = await kernel.InvokeAsync(questionAnswerFunction, new(){[\"input\"] = \"能介绍一下你自己吗?\"});\n"
   ]
  },
  {
   "cell_type": "code",
   "execution_count": null,
   "metadata": {
    "dotnet_interactive": {
     "language": "csharp"
    },
    "polyglot_notebook": {
     "kernelName": "csharp"
    },
    "vscode": {
     "languageId": "polyglot-notebook"
    }
   },
   "outputs": [],
   "source": [
    "result.GetValue<string>()"
   ]
  }
 ],
 "metadata": {
  "kernelspec": {
   "display_name": "hfenv",
   "language": "python",
   "name": "python3"
  },
  "language_info": {
   "codemirror_mode": {
    "name": "ipython",
    "version": 3
   },
   "file_extension": ".py",
   "mimetype": "text/x-python",
   "name": "python",
   "nbconvert_exporter": "python",
   "pygments_lexer": "ipython3",
   "version": "3.10.12"
  }
 },
 "nbformat": 4,
 "nbformat_minor": 2
}
