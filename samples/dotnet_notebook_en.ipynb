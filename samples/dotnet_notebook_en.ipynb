{
 "cells": [
  {
   "cell_type": "code",
   "execution_count": 1,
   "metadata": {
    "dotnet_interactive": {
     "language": "csharp"
    },
    "polyglot_notebook": {
     "kernelName": "csharp"
    },
    "vscode": {
     "languageId": "polyglot-notebook"
    }
   },
   "outputs": [
    {
     "data": {
      "text/html": [
       "<div><div></div><div></div><div><strong>Installed Packages</strong><ul><li><span>Microsoft.SemanticKernel, 1.0.0-rc4</span></li><li><span>Microsoft.SemanticKernel.Connectors.HuggingFace, 1.0.0-rc4</span></li><li><span>Microsoft.SemanticKernel.Connectors.Qdrant, 1.0.0-rc4</span></li></ul></div></div>"
      ]
     },
     "metadata": {},
     "output_type": "display_data"
    }
   ],
   "source": [
    "#r \"nuget: Microsoft.SemanticKernel, *-*\"\n",
    "#r \"nuget: Microsoft.SemanticKernel.Connectors.HuggingFace, *-*\"\n",
    "#r \"nuget: Microsoft.SemanticKernel.Connectors.Qdrant, *-*\""
   ]
  },
  {
   "cell_type": "code",
   "execution_count": 2,
   "metadata": {
    "dotnet_interactive": {
     "language": "csharp"
    },
    "polyglot_notebook": {
     "kernelName": "csharp"
    },
    "vscode": {
     "languageId": "polyglot-notebook"
    }
   },
   "outputs": [],
   "source": [
    "using Microsoft.SemanticKernel;\n",
    "using Microsoft.SemanticKernel.Embeddings;\n",
    "using Microsoft.SemanticKernel.Memory;\n",
    "using Microsoft.SemanticKernel.Connectors.Qdrant;\n",
    "using Microsoft.SemanticKernel.Connectors.HuggingFace;"
   ]
  },
  {
   "cell_type": "markdown",
   "metadata": {},
   "source": []
  },
  {
   "cell_type": "code",
   "execution_count": 3,
   "metadata": {
    "dotnet_interactive": {
     "language": "csharp"
    },
    "polyglot_notebook": {
     "kernelName": "csharp"
    },
    "vscode": {
     "languageId": "polyglot-notebook"
    }
   },
   "outputs": [],
   "source": [
    "string chat_endpoint = \"http://localhost:5002/v1/chat/completions\";\n",
    "string embeddings_endpoint = \"http://localhost:5002/v1/embeddings\";\n",
    "string qdrant_endpoint = \"http://localhost:6333\";"
   ]
  },
  {
   "cell_type": "code",
   "execution_count": 5,
   "metadata": {
    "dotnet_interactive": {
     "language": "csharp"
    },
    "polyglot_notebook": {
     "kernelName": "csharp"
    },
    "vscode": {
     "languageId": "polyglot-notebook"
    }
   },
   "outputs": [],
   "source": [
    "\n",
    "#pragma warning disable SKEXP0020\n",
    "\n",
    "Kernel kernel = Kernel.CreateBuilder()\n",
    "            .AddHuggingFaceTextGeneration(\n",
    "                model: \"phi15\",\n",
    "                endpoint: chat_endpoint)\n",
    "            .Build();"
   ]
  },
  {
   "cell_type": "code",
   "execution_count": 9,
   "metadata": {
    "dotnet_interactive": {
     "language": "csharp"
    },
    "polyglot_notebook": {
     "kernelName": "csharp"
    },
    "vscode": {
     "languageId": "polyglot-notebook"
    }
   },
   "outputs": [],
   "source": [
    "#pragma warning disable SKEXP0052\n",
    "#pragma warning disable CS1061\n",
    "#pragma warning disable SKEXP0011\n",
    "#pragma warning disable SKEXP0026\n",
    "\n",
    "#pragma warning disable SKEXP0020\n",
    "\n",
    "var qdrantMemoryBuilder = new MemoryBuilder();\n",
    "\n",
    "var hfembeddings = new HuggingFaceTextEmbeddingGenerationService(\"jina\", embeddings_endpoint);\n",
    "\n",
    "qdrantMemoryBuilder.WithTextEmbeddingGeneration(hfembeddings);\n",
    "qdrantMemoryBuilder.WithQdrantMemoryStore(qdrant_endpoint, 768);\n",
    "\n",
    "var builder = qdrantMemoryBuilder.Build();"
   ]
  },
  {
   "cell_type": "code",
   "execution_count": 10,
   "metadata": {
    "dotnet_interactive": {
     "language": "csharp"
    },
    "polyglot_notebook": {
     "kernelName": "csharp"
    },
    "vscode": {
     "languageId": "polyglot-notebook"
    }
   },
   "outputs": [],
   "source": [
    "string MemoryCollectionName = \"demoenvb\";\n",
    "\n",
    "await builder.SaveInformationAsync(MemoryCollectionName, id: \"id1\", text: \"kinfey is cloud advocate\");\n",
    "await builder.SaveInformationAsync(MemoryCollectionName, id: \"id2\", text: \"kinfey is Microsoft MVP\");\n",
    "await builder.SaveInformationAsync(MemoryCollectionName, id: \"id3\", text: \"kinfey is AI expert\");\n",
    "await builder.SaveInformationAsync(MemoryCollectionName, id: \"id4\", text: \"Satya is Microsoft CEO\");\n"
   ]
  },
  {
   "cell_type": "code",
   "execution_count": 11,
   "metadata": {
    "dotnet_interactive": {
     "language": "csharp"
    },
    "polyglot_notebook": {
     "kernelName": "csharp"
    },
    "vscode": {
     "languageId": "polyglot-notebook"
    }
   },
   "outputs": [],
   "source": [
    "var searchResults =  builder.SearchAsync(MemoryCollectionName, \"who is kinfey\", limit: 3, minRelevanceScore: 0.6);"
   ]
  },
  {
   "cell_type": "code",
   "execution_count": 12,
   "metadata": {
    "dotnet_interactive": {
     "language": "csharp"
    },
    "polyglot_notebook": {
     "kernelName": "csharp"
    },
    "vscode": {
     "languageId": "polyglot-notebook"
    }
   },
   "outputs": [
    {
     "name": "stdout",
     "output_type": "stream",
     "text": [
      "kinfey is AI expert : 0.8911192\n",
      "kinfey is Microsoft MVP : 0.87062556\n",
      "kinfey is cloud advocate : 0.84311897\n"
     ]
    }
   ],
   "source": [
    "await foreach (var item in searchResults)\n",
    "{\n",
    "    Console.WriteLine(item.Metadata.Text + \" : \" + item.Relevance);\n",
    "}"
   ]
  },
  {
   "cell_type": "code",
   "execution_count": 6,
   "metadata": {
    "dotnet_interactive": {
     "language": "csharp"
    },
    "polyglot_notebook": {
     "kernelName": "csharp"
    },
    "vscode": {
     "languageId": "polyglot-notebook"
    }
   },
   "outputs": [],
   "source": [
    "var questionAnswerFunction = kernel.CreateFunctionFromPrompt(\"ask: {{$input}} answer:\");"
   ]
  },
  {
   "cell_type": "code",
   "execution_count": 7,
   "metadata": {
    "dotnet_interactive": {
     "language": "csharp"
    },
    "polyglot_notebook": {
     "kernelName": "csharp"
    },
    "vscode": {
     "languageId": "polyglot-notebook"
    }
   },
   "outputs": [],
   "source": [
    "var result = await kernel.InvokeAsync(questionAnswerFunction, new(){[\"input\"] = \"who are you\"});\n"
   ]
  },
  {
   "cell_type": "code",
   "execution_count": 8,
   "metadata": {
    "dotnet_interactive": {
     "language": "csharp"
    },
    "polyglot_notebook": {
     "kernelName": "csharp"
    },
    "vscode": {
     "languageId": "polyglot-notebook"
    }
   },
   "outputs": [
    {
     "data": {
      "text/plain": [
       "ask: who are you answer:\n",
       "\n",
       "- I am a human, a living being that breathes, eats, and grows. I have a brain, a part of my body that helps me think, learn, and remember. I have a heart, a part of my body that pumps blood, which carries oxygen and nutrients to my cells. I have a stomach, a part of my body that digests food, which is the process of breaking down food into smaller pieces and absorbing the nutrients. I have a tongue, a part of my body that helps me taste, which is the sense of what something is like. I have a nose, a part of my body that helps me smell, which is the sense of what something smells like. I have a mouth, a part of my body that helps me speak, which is the way I communicate with others. I have a hair, a part of my body that helps me protect my skin, which is the outer layer of my body"
      ]
     },
     "metadata": {},
     "output_type": "display_data"
    }
   ],
   "source": [
    "result.GetValue<string>()"
   ]
  }
 ],
 "metadata": {
  "language_info": {
   "name": "python"
  }
 },
 "nbformat": 4,
 "nbformat_minor": 2
}
